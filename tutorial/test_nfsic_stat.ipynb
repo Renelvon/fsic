{
 "cells": [
  {
   "cell_type": "markdown",
   "metadata": {
    "collapsed": true
   },
   "source": [
    "The first notebook to test FSIC idea. Likely to be deprecated in the near future. Created on 16 June 2016."
   ]
  },
  {
   "cell_type": "code",
   "execution_count": null,
   "metadata": {},
   "outputs": [],
   "source": [
    "%load_ext autoreload\n",
    "%autoreload 2\n",
    "%matplotlib inline\n",
    "import numpy as np\n",
    "import matplotlib.pyplot as plt\n",
    "import fsic.util as util\n",
    "import fsic.data as data\n",
    "import fsic.kernel as kernel\n",
    "import fsic.indtest as it\n",
    "import fsic.glo as glo\n",
    "import scipy.stats as stats"
   ]
  },
  {
   "cell_type": "code",
   "execution_count": null,
   "metadata": {
    "collapsed": true
   },
   "outputs": [],
   "source": [
    "# font options\n",
    "font = {\n",
    "    #'family' : 'normal',\n",
    "    #'weight' : 'bold',\n",
    "    'size'   : 15\n",
    "}\n",
    "\n",
    "plt.rc('font', **font)\n",
    "plt.rc('lines', linewidth=2)"
   ]
  },
  {
   "cell_type": "code",
   "execution_count": null,
   "metadata": {
    "collapsed": true
   },
   "outputs": [],
   "source": [
    "def get_quad_psfunc():\n",
    "    \"\"\"\n",
    "    Return a PairedSource to generate y = x^2 + Gaussian noise.\n",
    "    \"\"\"\n",
    "    px = lambda n: np.random.rand(n, 1)*8 - 4\n",
    "    f = lambda x: 0.2*x**2 + np.random.randn(x.shape[0], 1)\n",
    "    return data.PSFunc(f, px)\n",
    "\n",
    "def kl_kgauss_median(pdata, med_factor=1):\n",
    "    \"\"\"\n",
    "    Get two Gaussian kernels constructed with the median heuristic.\n",
    "    \"\"\"\n",
    "    xtr, ytr = pdata.xy()\n",
    "    dx = xtr.shape[1]\n",
    "    dy = ytr.shape[1]\n",
    "    medx2 = util.sampled_median_distance(xtr, 1000)**2\n",
    "    medy2 = util.sampled_median_distance(ytr, 1000)**2\n",
    "    k = kernel.KGauss(medx2*med_factor)\n",
    "    l = kernel.KGauss(medy2*med_factor)\n",
    "    return k, l\n",
    "    "
   ]
  },
  {
   "cell_type": "code",
   "execution_count": null,
   "metadata": {},
   "outputs": [],
   "source": [
    "# paired source \n",
    "alpha = 0.01\n",
    "n = 1000\n",
    "dx = 100\n",
    "dy = 100\n",
    "seed = 393\n",
    "#ps = data.PSIndSameGauss(dx, dy)\n",
    "#ps = get_quad_psfunc()\n",
    "ps = data.PS2DSinFreq(freq=5)\n",
    "#ps = data.PSIndUnif(xlb=[0, 3], xub=[1, 10], ylb=[-5, 5], yub=[8, 10])\n",
    "\n",
    "pdata = ps.sample(n, seed=seed)\n",
    "X, Y = pdata.xy()\n",
    "#tr, te = pdata.split_tr_te(tr_proportion=0.5, seed=10)"
   ]
  },
  {
   "cell_type": "code",
   "execution_count": null,
   "metadata": {},
   "outputs": [],
   "source": [
    "# data and parameters\n",
    "#xtr, ytr = tr.xy()\n",
    "#xte, yte = te.xy()\n",
    "k, l = kl_kgauss_median(pdata)\n",
    "# number of test locations\n",
    "J = 5\n",
    "dx = pdata.dx()\n",
    "dy = pdata.dy()\n",
    "#V = np.random.randn(J, dx)\n",
    "#W = np.random.randn(J, dy)\n",
    "V, W = it.GaussNFSIC.init_locs_joint_randn(pdata, J, seed=seed+2)\n",
    "#V, W = it.GaussNFSIC.init_locs_2randn(pdata, J, seed=seed+2)"
   ]
  },
  {
   "cell_type": "code",
   "execution_count": null,
   "metadata": {
    "scrolled": true
   },
   "outputs": [],
   "source": [
    "# perform test\n",
    "nfsic = it.NFSIC(k, l, V, W, alpha=alpha, reg=1e-5)\n",
    "nfsic_result = nfsic.perform_test(pdata)\n",
    "nfsic_result"
   ]
  },
  {
   "cell_type": "markdown",
   "metadata": {},
   "source": [
    "## Null distribution"
   ]
  },
  {
   "cell_type": "code",
   "execution_count": null,
   "metadata": {},
   "outputs": [],
   "source": [
    "# permute and compute the statistic many times\n",
    "n_permute = 1000\n",
    "test_stats = nfsic.list_permute(X, Y, k, l, V, W, n_permute=n_permute, reg='auto')\n",
    "#test_stats = nfsic._list_permute_naive(X, Y, k, l, V, W, n_permute=n_permute)\n",
    "\n",
    "sim_pval = np.mean(test_stats > nfsic_result['test_stat'])\n",
    "asymp_pval = nfsic_result['pvalue']\n",
    "\n",
    "print 'p-value by permutations: %.3g'%sim_pval\n",
    "print 'p-value by asymptotic chi-square: %.3g'%asymp_pval"
   ]
  },
  {
   "cell_type": "code",
   "execution_count": null,
   "metadata": {
    "scrolled": true
   },
   "outputs": [],
   "source": [
    "dom = np.linspace(1e-1, np.max(test_stats), 500)\n",
    "chi2den = stats.chi2.pdf(dom, df=J)\n",
    "nc2den = stats.ncx2.pdf(dom, df=J, nc=np.mean(test_stats))\n",
    "# histogram\n",
    "plt.figure(figsize=(10,4))\n",
    "plt.hist(test_stats, alpha=0.5, bins=20, normed=True, label='Stats under $H_0$')\n",
    "plt.plot(dom, chi2den, label=r'$\\chi^2(J)$')\n",
    "#plt.plot(dom, nc2den, label=r'$\\chi^2(J, \\lambda)$')\n",
    "plt.legend()\n",
    "plt.title('FSIC. $J=%d$'%J)"
   ]
  },
  {
   "cell_type": "code",
   "execution_count": null,
   "metadata": {},
   "outputs": [],
   "source": [
    "# plot empirical cdf\n",
    "sorted_h0_stats = np.sort(test_stats)\n",
    "normed_ranks = np.arange(len(sorted_h0_stats))/float(len(sorted_h0_stats))\n",
    "plt.plot(sorted_h0_stats, normed_ranks, label='Simulated ECDF')\n",
    "\n",
    "cdfs = stats.chi2.cdf(dom, df=J)\n",
    "plt.plot(dom, cdfs, label='$\\chi^2(J)$ CDF')\n",
    "plt.legend()"
   ]
  },
  {
   "cell_type": "code",
   "execution_count": null,
   "metadata": {},
   "outputs": [],
   "source": [
    "# diff CDF\n",
    "diff_cdf = normed_ranks - stats.chi2.cdf(sorted_h0_stats, df=J)\n",
    "plt.plot(sorted_h0_stats, diff_cdf)\n",
    "plt.title('Diff in the CDFs')\n",
    "plt.grid(True)"
   ]
  },
  {
   "cell_type": "markdown",
   "metadata": {},
   "source": [
    "## Permutation test "
   ]
  },
  {
   "cell_type": "code",
   "execution_count": null,
   "metadata": {},
   "outputs": [],
   "source": [
    "#nfsic_perm = it.NFSIC(k, l, V, W, alpha=alpha, reg=1e-6, n_permute=500)\n",
    "st = nfsic.compute_stat(pdata)\n",
    "pval = np.mean(test_stats > st)\n",
    "\n",
    "print 'stat: %.3f'%st\n",
    "print 'p-value: %.3f'%pval"
   ]
  },
  {
   "cell_type": "markdown",
   "metadata": {},
   "source": [
    "## Test power \n",
    "\n",
    "Simulate from a toy example and try to compute the test power."
   ]
  },
  {
   "cell_type": "code",
   "execution_count": null,
   "metadata": {},
   "outputs": [],
   "source": [
    "reps = 1000\n",
    "n = 1000\n",
    "J = 10\n",
    "alpha = 0.05\n",
    "# None = use aymptotics\n",
    "n_permute = None\n",
    "#n_permute = 200\n",
    "\n",
    "ps = data.PSIndSameGauss(dx=20, dy=20)\n",
    "k, l = kl_kgauss_median(ps.sample(1000, seed=2198), med_factor=1.0)\n",
    "with util.NumpySeedContext(seed=23):\n",
    "    V = np.random.randn(J, ps.dx())\n",
    "    W = np.random.randn(J, ps.dy())\n",
    "\n",
    "\n",
    "test_results = []\n",
    "for r in range(reps):\n",
    "    pdata = ps.sample(n, seed=r)\n",
    "    pdata2 = ps.sample(300, seed=r+66)\n",
    "    #with util.NumpySeedContext(seed=23):\n",
    "    #    V = np.random.randn(J, ps.dx())\n",
    "    #    W = np.random.randn(J, ps.dy())\n",
    "    \n",
    "    V, W = it.GaussNFSIC.init_locs_joint_subset(pdata2, J, seed=r+1)\n",
    "    #V, W = it.GaussNFSIC.init_locs_2randn(pdata, J, seed=r+3)\n",
    "        \n",
    "    #k, l = kl_kgauss_median(pdata, med_factor=1.0)\n",
    "    nfsic = it.NFSIC(k, l, V, W, alpha=alpha, reg='auto', n_permute=n_permute, seed=89)\n",
    "    result = nfsic.perform_test(pdata)\n",
    "    test_results.append(result)\n",
    "      "
   ]
  },
  {
   "cell_type": "code",
   "execution_count": null,
   "metadata": {},
   "outputs": [],
   "source": [
    "rejs = [r['h0_rejected'] for r in test_results]\n",
    "rep_stats = [r['test_stat'] for r in test_results]\n",
    "thresh = stats.chi2.isf(alpha, df=J)\n",
    "\n",
    "power = np.mean(rejs)\n",
    "print 'power: %g'%power"
   ]
  },
  {
   "cell_type": "code",
   "execution_count": null,
   "metadata": {
    "scrolled": true
   },
   "outputs": [],
   "source": [
    "# histogram\n",
    "dom = np.linspace(max(1e-1, np.min(rep_stats)), np.max(rep_stats), 600)\n",
    "chi2_den = stats.chi2.pdf(dom, df=J)\n",
    "\n",
    "plt.figure(figsize=(10, 5))\n",
    "plt.hist(rep_stats, bins=20, alpha=0.5, label='Repeated trials', normed=True)\n",
    "plt.plot(dom, chi2_den, '-', label=r'$\\chi^2(%d)$'%J)\n",
    "plt.legend()\n"
   ]
  },
  {
   "cell_type": "markdown",
   "metadata": {
    "collapsed": true
   },
   "source": [
    "## When two locations are very close"
   ]
  },
  {
   "cell_type": "code",
   "execution_count": null,
   "metadata": {
    "collapsed": true
   },
   "outputs": [],
   "source": [
    "# 2d data\n",
    "#ps = data.PSIndSameGauss(dx=1, dy=1)\n",
    "ps = data.PS2DSinFreq(freq=1)\n",
    "pdata = ps.sample(n=700, seed=8)\n",
    "X, Y = pdata.xy()"
   ]
  },
  {
   "cell_type": "code",
   "execution_count": null,
   "metadata": {},
   "outputs": [],
   "source": [
    "k, l = kl_kgauss_median(pdata, med_factor=0.85)\n",
    "reg = 1e-6\n",
    "W = np.array([[-1.7], [-1.7]])\n",
    "v0_cand = np.hstack( (np.linspace(-4, 4, 500), [0, -1] ))\n",
    "v0_cand.sort()\n",
    "nfsics = np.zeros(len(v0_cand))\n",
    "for i, v0 in enumerate(v0_cand):\n",
    "    V = np.array([[v0], [-1]])\n",
    "    nfsic = it.NFSIC(k, l, V, W, alpha=0.05, reg=reg)\n",
    "    nfsics[i] = nfsic.compute_stat(pdata)"
   ]
  },
  {
   "cell_type": "code",
   "execution_count": null,
   "metadata": {
    "scrolled": true
   },
   "outputs": [],
   "source": [
    "# plot\n",
    "\n",
    "#plt.figure(figsize=(7, 2))\n",
    "ax1 = plt.subplot(2, 1, 1)\n",
    "plt.locator_params(nbins=5)\n",
    "\n",
    "plt.plot(X[:, 0], Y[:, 0], 'k.', label='Sample', alpha=0.8)\n",
    "plt.plot(v0_cand, np.ones(len(v0_cand))*W[0], 'g-', linewidth=3, label='$\\mathbf{t}_2$ trajectory')\n",
    "plt.plot(V[1], W[1], 'r*', markersize=23, label=r'$\\mathbf{t}_1$')\n",
    "plt.xlabel('$x$')\n",
    "plt.ylabel('$y$')\n",
    "plt.xlim([-np.pi, np.pi])\n",
    "plt.ylim([-np.pi, np.pi])\n",
    "plt.legend(numpoints=1, ncol=3, fontsize=16, \n",
    "          # bbox_to_anchor=(1.02, 1.9)\n",
    "            bbox_to_anchor=(1.02, 1.5)\n",
    "          )\n",
    "plt.setp(ax1.get_xticklabels(), visible=False)\n",
    "\n",
    "\n",
    "# values\n",
    "plt.subplot(2, 1, 2, sharex=ax1)\n",
    "plt.locator_params(nbins=5)\n",
    "\n",
    "plt.plot(v0_cand, nfsics, 'b-', label='$\\hat{\\lambda}_n(\\mathbf{t}_1, \\mathbf{t}_2)$')\n",
    "#plt.title('V: [[v0], [%.1f]], W: %s'%(V[1], W))\n",
    "plt.xlabel(r'$\\mathbf{t}_2$')\n",
    "plt.ylabel('$\\hat{\\lambda}_n(\\mathbf{t}_1, \\mathbf{t}_2)$')\n",
    "plt.ylim([np.min(nfsics)-10, np.max(nfsics)+10])\n",
    "plt.xlim([-np.pi, np.pi])\n",
    "#plt.legend(numpoints=1, ncol=3, loc='lower right')\n",
    "#plt.gca().get_yaxis().set_visible(False)\n",
    "plt.savefig('redundant_locs.pdf', bbox_inches='tight')"
   ]
  },
  {
   "cell_type": "markdown",
   "metadata": {},
   "source": [
    "--------------"
   ]
  },
  {
   "cell_type": "markdown",
   "metadata": {
    "collapsed": true
   },
   "source": [
    "## Test power when J is high"
   ]
  },
  {
   "cell_type": "code",
   "execution_count": null,
   "metadata": {
    "collapsed": true
   },
   "outputs": [],
   "source": [
    "# paired source \n",
    "alpha = 0.01\n",
    "n = 1000\n",
    "dx = 100\n",
    "dy = 100\n",
    "seed = 393\n",
    "#ps = data.PSIndSameGauss(dx, dy)\n",
    "#ps = get_quad_psfunc()\n",
    "ps = data.PS2DSinFreq(freq=2)\n",
    "#ps = data.PSIndUnif(xlb=[0, 3], xub=[1, 10], ylb=[-5, 5], yub=[8, 10])\n",
    "\n",
    "pdata = ps.sample(n, seed=seed)\n",
    "X, Y = pdata.xy()\n",
    "k, l = kl_kgauss_median(pdata)\n",
    "tr, te = pdata.split_tr_te(tr_proportion=0.5, seed=10)"
   ]
  },
  {
   "cell_type": "code",
   "execution_count": null,
   "metadata": {
    "collapsed": true
   },
   "outputs": [],
   "source": [
    "def test_power(ps, nte, J, reps):\n",
    "    rejs = np.zeros(reps)\n",
    "    for r in range(reps):\n",
    "        te = ps.sample(nte, seed=r+9827)\n",
    "        tr = ps.sample(nte, seed=r+27)\n",
    "        V, W = it.GaussNFSIC.init_locs_2randn(tr, J, seed=r+2)\n",
    "        #V, W = it.GaussNFSIC.init_locs_joint_randn(tr, J, seed=r+2)\n",
    "        #V, W = it.GaussNFSIC.init_locs_marginals_subset(tr, J, seed=r+2)\n",
    "        #V, W = it.GaussNFSIC.init_locs_joint_subset(tr, J, seed=r+2)\n",
    "        nfsic = it.NFSIC(k, l, V, W, alpha=alpha, reg='auto')\n",
    "        try:\n",
    "            test_result = nfsic.perform_test(te)\n",
    "            rejs[r] = test_result['h0_rejected']\n",
    "        except:\n",
    "            rejs[r] = False\n",
    "    return np.mean(rejs)\n",
    "\n",
    "    "
   ]
  },
  {
   "cell_type": "code",
   "execution_count": null,
   "metadata": {
    "scrolled": true
   },
   "outputs": [],
   "source": [
    "nte = 800\n",
    "reps = 500\n",
    "\n",
    "Js = range(1, 600+3, 50) + [10, 20, 30, 40]\n",
    "Js = np.sort(np.array(Js))\n",
    "#Js = np.logspace(0, 2.6, 10).astype(np.int64)\n",
    "Js_pow = np.zeros(len(Js))\n",
    "test_results = np.zeros(len(Js), dtype=np.object)\n",
    "\n",
    "for i, J in enumerate(Js):\n",
    "    tpow = test_power(ps, nte, J, reps)\n",
    "    Js_pow[i] = tpow\n",
    "    "
   ]
  },
  {
   "cell_type": "code",
   "execution_count": null,
   "metadata": {},
   "outputs": [],
   "source": [
    "#plt.semilogx(Js, Js_pow, 'bo-')\n",
    "plt.plot(Js, Js_pow, 'bo-')\n",
    "plt.xlim([np.min(Js), np.max(Js)])\n",
    "plt.ylim([np.min(Js_pow), 1])\n",
    "plt.xlabel('J')\n",
    "plt.ylabel('Test power')\n",
    "plt.grid()\n",
    "\n",
    "fname = 'pow_vs_J.pdf'\n",
    "plt.savefig(fname, bbox_inches='tight')"
   ]
  },
  {
   "cell_type": "code",
   "execution_count": null,
   "metadata": {
    "collapsed": true
   },
   "outputs": [],
   "source": []
  },
  {
   "cell_type": "code",
   "execution_count": null,
   "metadata": {
    "collapsed": true
   },
   "outputs": [],
   "source": []
  },
  {
   "cell_type": "code",
   "execution_count": null,
   "metadata": {
    "collapsed": true
   },
   "outputs": [],
   "source": []
  },
  {
   "cell_type": "code",
   "execution_count": null,
   "metadata": {
    "collapsed": true
   },
   "outputs": [],
   "source": []
  },
  {
   "cell_type": "code",
   "execution_count": null,
   "metadata": {
    "collapsed": true
   },
   "outputs": [],
   "source": []
  }
 ],
 "metadata": {
  "kernelspec": {
   "display_name": "Python 3",
   "language": "python",
   "name": "python3"
  },
  "language_info": {
   "codemirror_mode": {
    "name": "ipython",
    "version": 3
   },
   "file_extension": ".py",
   "mimetype": "text/x-python",
   "name": "python",
   "nbconvert_exporter": "python",
   "pygments_lexer": "ipython3",
   "version": "3.8.2"
  }
 },
 "nbformat": 4,
 "nbformat_minor": 1
}
