{
 "cells": [
  {
   "cell_type": "markdown",
   "metadata": {},
   "source": [
    "This notebook is to test the implementation of HSIC using finite-dimensional feature maps. FiniteFeatureHSIC class."
   ]
  },
  {
   "cell_type": "code",
   "execution_count": 6,
   "metadata": {},
   "outputs": [
    {
     "name": "stdout",
     "output_type": "stream",
     "text": [
      "The autoreload extension is already loaded. To reload it, use:\n",
      "  %reload_ext autoreload\n"
     ]
    }
   ],
   "source": [
    "%load_ext autoreload\n",
    "%autoreload 2\n",
    "%matplotlib inline\n",
    "\n",
    "import matplotlib.pyplot as plt\n",
    "import numpy as np\n",
    "import scipy.stats as stats\n",
    "\n",
    "from fsic import (data, feature, kernel, util)\n",
    "from fsic import indtest as it"
   ]
  },
  {
   "cell_type": "code",
   "execution_count": 7,
   "metadata": {},
   "outputs": [],
   "source": [
    "# font options\n",
    "font = {\n",
    "    #'family' : 'normal',\n",
    "    #'weight' : 'bold',\n",
    "    'size'   : 16\n",
    "}\n",
    "\n",
    "plt.rc('font', **font)\n",
    "plt.rc('lines', linewidth=2)\n",
    "#matplotlib.rc('text', usetex=True)\n",
    "#matplotlib.rcParams['text.latex.preamble']=[r\"\\usepackage{amsmath}\"]"
   ]
  },
  {
   "cell_type": "code",
   "execution_count": 8,
   "metadata": {},
   "outputs": [],
   "source": [
    "def get_quad_psfunc():\n",
    "    \"\"\"\n",
    "    Return a PairedSource to generate y = x^2 + Gaussian noise.\n",
    "    \"\"\"\n",
    "    px = lambda n: np.random.rand(n, 1)*8 - 4\n",
    "    f = lambda x: 0.2*x**2 + np.random.randn(x.shape[0], 1)\n",
    "    return data.PSFunc(f, px)\n",
    "    "
   ]
  },
  {
   "cell_type": "code",
   "execution_count": 9,
   "metadata": {},
   "outputs": [],
   "source": [
    "# paired source \n",
    "alpha = 0.05\n",
    "n = 2000\n",
    "seed = 18\n",
    "\n",
    "dx = 10 \n",
    "dy = 5\n",
    "ps = data.PSIndSameGauss(dx, dy)\n",
    "#ps = get_quad_psfunc()\n",
    "#ps = data.PS2DUnifRotate(angle=np.pi/3)\n",
    "#ps = data.PSIndUnif(xlb=[0, 3], xub=[1, 10], ylb=[-5, 5], yub=[8, 10])\n",
    "#ps = data.PS2DSinFreq(freq=2)\n",
    "\n",
    "pdata = ps.sample(n, seed=seed)\n",
    "#tr, te = pdata.split_tr_te(tr_proportion=0.5, seed=10)"
   ]
  },
  {
   "cell_type": "code",
   "execution_count": 10,
   "metadata": {
    "scrolled": false
   },
   "outputs": [
    {
     "data": {
      "text/plain": [
       "{'alpha': 0.05,\n",
       " 'pvalue': 0.4904,\n",
       " 'test_stat': 0.16380742150714425,\n",
       " 'h0_rejected': False,\n",
       " 'time_secs': 2.006108045578003,\n",
       " 'n_simulate': 5000}"
      ]
     },
     "execution_count": 10,
     "metadata": {},
     "output_type": "execute_result"
    }
   ],
   "source": [
    "# get the median distances \n",
    "X, Y = pdata.xy()\n",
    "medx = util.meddistance(X, subsample=1000)\n",
    "medy = util.meddistance(Y, subsample=1000)\n",
    "sigmax2 = medx**2\n",
    "sigmay2 = medy**2\n",
    "\n",
    "feature_pairs = 50\n",
    "n_simulate = 5000\n",
    "fmx = feature.RFFKGauss(sigmax2, n_features=feature_pairs, seed=seed+1)\n",
    "fmy = feature.RFFKGauss(sigmay2, n_features=feature_pairs, seed=seed+2)\n",
    "ffhsic = it.FiniteFeatureHSIC(fmx, fmy, n_simulate=n_simulate, alpha=alpha, seed=seed+89)\n",
    "ffhsic_result = ffhsic.perform_test(pdata)\n",
    "ffhsic_result\n"
   ]
  },
  {
   "cell_type": "markdown",
   "metadata": {},
   "source": [
    "## Null distribution\n",
    "\n",
    "Check that the distribution simulated from the spectral approach is the same as the one obtained by permutations."
   ]
  },
  {
   "cell_type": "code",
   "execution_count": 11,
   "metadata": {},
   "outputs": [],
   "source": [
    "n_permute = 500\n",
    "n_simulate = 500\n",
    "\n",
    "Zx = fmx.gen_features(X)\n",
    "Zy = fmy.gen_features(Y)\n",
    "list_perm = it.FiniteFeatureHSIC.list_permute(X, Y, fmx, fmy, n_permute=n_permute, seed=100)\n",
    "list_spectral, eigx, eigy = it.FiniteFeatureHSIC.list_permute_spectral(Zx, Zy, \n",
    "                                                           n_simulate=n_simulate, seed=119)"
   ]
  },
  {
   "cell_type": "code",
   "execution_count": 12,
   "metadata": {},
   "outputs": [
    {
     "data": {
      "text/plain": [
       "array([0.006, 0.018, 0.012, 0.01 , 0.022, 0.01 , 0.   , 0.01 , 0.008,\n",
       "       0.004])"
      ]
     },
     "execution_count": 12,
     "metadata": {},
     "output_type": "execute_result"
    }
   ],
   "source": [
    "freq_p, edge_p = np.histogram(list_perm)\n",
    "freq_s, edge_s = np.histogram(list_spectral)\n",
    "nfreq_p = freq_p/float(np.sum(freq_p))\n",
    "nfreq_s = freq_s/float(np.sum(freq_s))\n",
    "np.abs(nfreq_p-nfreq_s)\n"
   ]
  },
  {
   "cell_type": "code",
   "execution_count": 13,
   "metadata": {
    "scrolled": false
   },
   "outputs": [
    {
     "name": "stderr",
     "output_type": "stream",
     "text": [
      "/usr/lib/python3/dist-packages/ipykernel_launcher.py:4: MatplotlibDeprecationWarning: \n",
      "The 'normed' kwarg was deprecated in Matplotlib 2.1 and will be removed in 3.1. Use 'density' instead.\n",
      "  after removing the cwd from sys.path.\n",
      "/usr/lib/python3/dist-packages/ipykernel_launcher.py:5: MatplotlibDeprecationWarning: \n",
      "The 'normed' kwarg was deprecated in Matplotlib 2.1 and will be removed in 3.1. Use 'density' instead.\n",
      "  \"\"\"\n"
     ]
    },
    {
     "data": {
      "text/plain": [
       "<matplotlib.legend.Legend at 0x7f056b3bad50>"
      ]
     },
     "execution_count": 13,
     "metadata": {},
     "output_type": "execute_result"
    },
    {
     "data": {
      "image/png": "[encoded data removed]",
      "text/plain": [
       "<Figure size 720x360 with 1 Axes>"
      ]
     },
     "metadata": {
      "needs_background": "light"
     },
     "output_type": "display_data"
    }
   ],
   "source": [
    "# histogram\n",
    "plt.figure(figsize=(10, 5))\n",
    "#plt.hist(list_perm, color='blue', alpha=0.7, normed=True, bins=20)\n",
    "plt.hist(list_spectral, color='red', alpha=0.5, normed=True, bins=20, label='Spectral')\n",
    "plt.hist(list_perm, color='blue', alpha=0.5, normed=True, bins=20, label='Permutation')\n",
    "plt.legend()"
   ]
  },
  {
   "cell_type": "markdown",
   "metadata": {},
   "source": [
    "## Eigen values"
   ]
  },
  {
   "cell_type": "code",
   "execution_count": 14,
   "metadata": {},
   "outputs": [],
   "source": [
    "k = kernel.KGauss(sigmax2)\n",
    "l = kernel.KGauss(sigmay2)\n",
    "n = X.shape[0]\n",
    "H = np.eye(n) - np.ones((n, n))/float(n)\n",
    "\n",
    "K = k.eval(X, X)\n",
    "L = l.eval(Y, Y)\n",
    "HKH = H.dot(K).dot(H)\n",
    "HLH = H.dot(L).dot(H)"
   ]
  },
  {
   "cell_type": "code",
   "execution_count": 15,
   "metadata": {},
   "outputs": [],
   "source": [
    "full_eigx, _ = np.linalg.eig(HKH)\n",
    "full_eigx = np.real(full_eigx)\n",
    "full_eigy, _ = np.linalg.eig(HLH)\n",
    "full_eigy = np.real(full_eigy)\n",
    "# sort decreasingly\n",
    "full_eigx = -np.sort(-full_eigx)/n\n",
    "full_eigy = -np.sort(-full_eigy)/n"
   ]
  },
  {
   "cell_type": "code",
   "execution_count": 16,
   "metadata": {},
   "outputs": [
    {
     "data": {
      "text/plain": [
       "Text(0.5, 1.0, 'Product of eigenvalues')"
      ]
     },
     "execution_count": 16,
     "metadata": {},
     "output_type": "execute_result"
    },
    {
     "data": {
      "image/png": "[encoded data removed]",
      "text/plain": [
       "<Figure size 432x288 with 1 Axes>"
      ]
     },
     "metadata": {
      "needs_background": "light"
     },
     "output_type": "display_data"
    }
   ],
   "source": [
    "# compare the product of eigenvalues to the full kernel matrix case \n",
    "full_eig = np.outer(full_eigx, full_eigy).reshape(-1)\n",
    "finite_eig = np.outer(eigx, eigy).reshape(-1)\n",
    "lim = min(len(full_eig), len(finite_eig), 10)\n",
    "\n",
    "plt.plot(finite_eig[:lim], 'bo-', label='finite-dim kernel')\n",
    "plt.plot(full_eig[:lim], 'go-', label='full kernel matrix')\n",
    "plt.legend()\n",
    "plt.title('Product of eigenvalues')"
   ]
  }
 ],
 "metadata": {
  "kernelspec": {
   "display_name": "Python 3",
   "language": "python",
   "name": "python3"
  },
  "language_info": {
   "codemirror_mode": {
    "name": "ipython",
    "version": 3
   },
   "file_extension": ".py",
   "mimetype": "text/x-python",
   "name": "python",
   "nbconvert_exporter": "python",
   "pygments_lexer": "ipython3",
   "version": "3.7.5"
  }
 },
 "nbformat": 4,
 "nbformat_minor": 1
}
