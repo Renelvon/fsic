{
 "cells": [
  {
   "cell_type": "markdown",
   "metadata": {},
   "source": [
    "A notebook to test Nystrom HSIC implementation."
   ]
  },
  {
   "cell_type": "code",
   "execution_count": 1,
   "metadata": {},
   "outputs": [],
   "source": [
    "%load_ext autoreload\n",
    "%autoreload 2\n",
    "%matplotlib inline\n",
    "import numpy as np\n",
    "import matplotlib.pyplot as plt\n",
    "import fsic.util as util\n",
    "import fsic.data as data\n",
    "import fsic.feature as fea\n",
    "import fsic.kernel as kernel\n",
    "import fsic.indtest as it\n",
    "import scipy.stats as stats"
   ]
  },
  {
   "cell_type": "code",
   "execution_count": 2,
   "metadata": {},
   "outputs": [],
   "source": [
    "# font options\n",
    "font = {\n",
    "    #'family' : 'normal',\n",
    "    #'weight' : 'bold',\n",
    "    'size'   : 16\n",
    "}\n",
    "\n",
    "plt.rc('font', **font)\n",
    "plt.rc('lines', linewidth=2)\n",
    "#matplotlib.rc('text', usetex=True)\n",
    "#matplotlib.rcParams['text.latex.preamble']=[r\"\\usepackage{amsmath}\"]"
   ]
  },
  {
   "cell_type": "code",
   "execution_count": 3,
   "metadata": {},
   "outputs": [],
   "source": [
    "def get_quad_psfunc():\n",
    "    \"\"\"\n",
    "    Return a PairedSource to generate y = x^2 + Gaussian noise.\n",
    "    \"\"\"\n",
    "    px = lambda n: np.random.rand(n, 1)*8 - 4\n",
    "    f = lambda x: 0.2*x**2 + np.random.randn(x.shape[0], 1)\n",
    "    return data.PSFunc(f, px)\n",
    "    "
   ]
  },
  {
   "cell_type": "code",
   "execution_count": 4,
   "metadata": {},
   "outputs": [],
   "source": [
    "# paired source \n",
    "alpha = 0.05\n",
    "n = 800\n",
    "seed = 19\n",
    "\n",
    "dx = 90 \n",
    "dy = 50\n",
    "#ps = data.PSIndSameGauss(dx, dy)\n",
    "#ps = get_quad_psfunc()\n",
    "#ps = data.PS2DUnifRotate(angle=np.pi/3)\n",
    "#ps = data.PSIndUnif(xlb=[0, 3], xub=[1, 10], ylb=[-5, 5], yub=[8, 10])\n",
    "ps = data.PS2DSinFreq(freq=2)\n",
    "\n",
    "pdata = ps.sample(n, seed=seed)\n",
    "#tr, te = pdata.split_tr_te(tr_proportion=0.5, seed=10)"
   ]
  },
  {
   "cell_type": "code",
   "execution_count": 5,
   "metadata": {},
   "outputs": [],
   "source": [
    "# get the median distances \n",
    "X, Y = pdata.xy()\n",
    "medx = util.sampled_median_distance(X, 1000)\n",
    "medy = util.sampled_median_distance(Y, 1000)\n",
    "sigmax2 = medx**2\n",
    "sigmay2 = medy**2\n",
    "k = kernel.KGauss(sigmax2)\n",
    "l = kernel.KGauss(sigmay2)\n",
    "\n",
    "# Randomly choose inducing points.\n",
    "D = 20\n",
    "induce_x = X[util.subsample_ind(n, D, seed=seed+1), :]\n",
    "induce_y = Y[util.subsample_ind(n, D, seed=seed+2), :]\n",
    "\n",
    "n_simulate = 5000\n",
    "nyhsic = it.NystromHSIC(k, l, induce_x, induce_y, \n",
    "                       n_simulate=n_simulate, alpha=alpha, seed=seed+10)"
   ]
  },
  {
   "cell_type": "code",
   "execution_count": 6,
   "metadata": {},
   "outputs": [
    {
     "data": {
      "text/plain": [
       "{'alpha': 0.05,\n",
       " 'pvalue': 0.0032,\n",
       " 'test_stat': 1.0726264965810834,\n",
       " 'h0_rejected': True,\n",
       " 'time_secs': 0.5730116367340088,\n",
       " 'n_simulate': 5000}"
      ]
     },
     "execution_count": 6,
     "metadata": {},
     "output_type": "execute_result"
    }
   ],
   "source": [
    "nyhsic_result = nyhsic.perform_test(pdata)\n",
    "nyhsic_result"
   ]
  },
  {
   "cell_type": "markdown",
   "metadata": {},
   "source": [
    "## Null distribution\n",
    "\n",
    "Check that the distribution simulated from the spectral approach is the same as the one obtained by permutations."
   ]
  },
  {
   "cell_type": "code",
   "execution_count": 7,
   "metadata": {},
   "outputs": [],
   "source": [
    "n_permute = 1000\n",
    "n_simulate = 1000\n",
    "fmx = nyhsic.fmx\n",
    "fmy = nyhsic.fmy\n",
    "\n",
    "Zx = fmx.gen_features(X)\n",
    "Zy = fmy.gen_features(Y)\n",
    "list_perm = it.FiniteFeatureHSIC.list_permute(X, Y, fmx, fmy, n_permute=n_permute, seed=100)\n",
    "list_spectral, eigx, eigy = it.FiniteFeatureHSIC.list_permute_spectral(Zx, Zy, \n",
    "                                                           n_simulate=n_simulate, seed=119)"
   ]
  },
  {
   "cell_type": "code",
   "execution_count": 8,
   "metadata": {},
   "outputs": [
    {
     "data": {
      "text/plain": [
       "array([0.169, 0.102, 0.058, 0.083, 0.06 , 0.025, 0.018, 0.013, 0.007,\n",
       "       0.007])"
      ]
     },
     "execution_count": 8,
     "metadata": {},
     "output_type": "execute_result"
    }
   ],
   "source": [
    "freq_p, edge_p = np.histogram(list_perm)\n",
    "freq_s, edge_s = np.histogram(list_spectral)\n",
    "nfreq_p = freq_p/float(np.sum(freq_p))\n",
    "nfreq_s = freq_s/float(np.sum(freq_s))\n",
    "np.abs(nfreq_p-nfreq_s)\n"
   ]
  },
  {
   "cell_type": "code",
   "execution_count": 9,
   "metadata": {},
   "outputs": [
    {
     "name": "stderr",
     "output_type": "stream",
     "text": [
      "/usr/lib/python3/dist-packages/ipykernel_launcher.py:4: MatplotlibDeprecationWarning: \n",
      "The 'normed' kwarg was deprecated in Matplotlib 2.1 and will be removed in 3.1. Use 'density' instead.\n",
      "  after removing the cwd from sys.path.\n",
      "/usr/lib/python3/dist-packages/ipykernel_launcher.py:5: MatplotlibDeprecationWarning: \n",
      "The 'normed' kwarg was deprecated in Matplotlib 2.1 and will be removed in 3.1. Use 'density' instead.\n",
      "  \"\"\"\n"
     ]
    },
    {
     "data": {
      "text/plain": [
       "<matplotlib.legend.Legend at 0x7f1611ea1250>"
      ]
     },
     "execution_count": 9,
     "metadata": {},
     "output_type": "execute_result"
    },
    {
     "data": {
      "image/png": "[encoded data removed]",
      "text/plain": [
       "<Figure size 720x360 with 1 Axes>"
      ]
     },
     "metadata": {
      "needs_background": "light"
     },
     "output_type": "display_data"
    }
   ],
   "source": [
    "# histogram\n",
    "plt.figure(figsize=(10, 5))\n",
    "#plt.hist(list_perm, color='blue', alpha=0.7, normed=True, bins=20)\n",
    "plt.hist(list_spectral, color='red', alpha=0.5, normed=True, bins=25, label='Spectral')\n",
    "plt.hist(list_perm, color='blue', alpha=0.5, normed=True, bins=25, label='Permutation')\n",
    "plt.legend()"
   ]
  }
 ],
 "metadata": {
  "kernelspec": {
   "display_name": "Python 3",
   "language": "python",
   "name": "python3"
  },
  "language_info": {
   "codemirror_mode": {
    "name": "ipython",
    "version": 3
   },
   "file_extension": ".py",
   "mimetype": "text/x-python",
   "name": "python",
   "nbconvert_exporter": "python",
   "pygments_lexer": "ipython3",
   "version": "3.7.5"
  }
 },
 "nbformat": 4,
 "nbformat_minor": 1
}
